{
 "cells": [
  {
   "cell_type": "code",
   "execution_count": 20,
   "metadata": {},
   "outputs": [
    {
     "name": "stdout",
     "output_type": "stream",
     "text": [
      "theta_candidates =  [0.0]\n",
      "s_candidates =  [0.0]\n"
     ]
    },
    {
     "name": "stderr",
     "output_type": "stream",
     "text": [
      "<ipython-input-20-c71ad14d3763>:8: ComplexWarning: Casting complex values to real discards the imaginary part\n",
      "  R = (R[np.argwhere((~np.iscomplex(R)) & (R<theta0))][:,0]).astype(float) # indexing fixes stupid argwhere BS\n"
     ]
    },
    {
     "data": {
      "text/plain": [
       "394.61800032467545"
      ]
     },
     "execution_count": 20,
     "metadata": {},
     "output_type": "execute_result"
    },
    {
     "data": {
      "image/png": "[encoded data removed]",
      "text/plain": [
       "<Figure size 432x288 with 1 Axes>"
      ]
     },
     "metadata": {
      "needs_background": "light"
     },
     "output_type": "display_data"
    }
   ],
   "source": [
    "import numpy as np\n",
    "import matplotlib.pyplot as plt\n",
    "\n",
    "def puller_potential_energy(tp, theta0, plot=False, plotdomain=None, axPPE=None):\n",
    "    # plotdomain is a tuple (xmin, xmax)\n",
    "    p = np.array([tp.c10, tp.c9, tp.c8, tp.c7, tp.c6, tp.c5, tp.c4, tp.c3, tp.c2, tp.c1, tp.c0])\n",
    "    R = np.roots(p)\n",
    "    R = (R[np.argwhere((~np.iscomplex(R)) & (R<theta0))][:,0]).astype(float) # indexing fixes stupid argwhere BS\n",
    "    # R is list containing the real roots of the torque function that are < theta0\n",
    "    \n",
    "    def tau(theta):\n",
    "        return np.polyval(p, theta)\n",
    "    \n",
    "    def s(theta):\n",
    "        # integral of torque wrt theta\n",
    "        pI = np.polyint(p)\n",
    "        return np.polyval(pI, theta)\n",
    "    \n",
    "    def taud(theta):\n",
    "        pd = np.polyder(p)\n",
    "        return np.polyval(pd, theta)\n",
    "    \n",
    "    def plot_PPE(R, axPPE):\n",
    "        if axPPE is None:\n",
    "            figPPE = plt.figure(3)\n",
    "            axPPE = figPPE.add_subplot(111)\n",
    "        if not plotdomain is None:\n",
    "            xmin = plotdomain[0]\n",
    "            xmax = plotdomain[1]\n",
    "        else:\n",
    "            if len(R) > 0:\n",
    "                xmin = min(list(R))\n",
    "            else:\n",
    "                xmin = -2*np.pi\n",
    "            xmax = theta0\n",
    "        x = np.linspace(xmax, xmin, 100)\n",
    "        y = np.array([tau(t) for t in x])\n",
    "        svals = np.array([s(t) for t in x])\n",
    "        axPPE.plot(x, y, label=\"torque\")\n",
    "        axPPE.plot(x, svals, label=\"integral of torque\")\n",
    "        axPPE.legend(loc=\"best\")\n",
    "        axPPE.plot(x[0], y[0], 'ko') # starting point\n",
    "        for r in R:\n",
    "            axPPE.plot(r, tau(r), 'ro')\n",
    "        axPPE.set_xlabel(\"theta\")\n",
    "        \n",
    "    if plot:\n",
    "        plot_PPE(R, axPPE) # before the complicated logic starts\n",
    "    \n",
    "    # R contains the values of theta < theta0 for which s has a local optimum\n",
    "    s0 = s(theta0) # if this is less than all other candidates the arm will initially move backward\n",
    "    theta_candidates = [t for t in R if taud(t) > 0] # condition for a minimum of s\n",
    "    if len(theta_candidates) == 0:\n",
    "        if (tau(theta0) > 0):\n",
    "            print(\"UNLIMITED POWER!\") # no candidate roots and initial torque > 0 -> torque ALWAYS > 0\n",
    "            return np.Inf\n",
    "        else:\n",
    "            return 0 # not actually, but the arm goes the wrong way\n",
    "    s_candidates = [s(t) for t in theta_candidates]\n",
    "    smin = min(s_candidates) # smallest minimum of the indefinite integral for theta < theta0\n",
    "    if s0 < smin:\n",
    "        return 0 # no potential energy - the arm rotates backwards\n",
    "    else:\n",
    "        return s0 - smin # the definite integral we're looking for\n",
    "    \n",
    "class tp:\n",
    "    def __init__(self, iD):\n",
    "        self.c0 = iD['c0']\n",
    "        self.c1 = iD['c1']\n",
    "        self.c2 = iD['c2']\n",
    "        self.c3 = iD['c3']\n",
    "        self.c4 = iD['c4']\n",
    "        self.c5 = iD['c5']\n",
    "        self.c6 = iD['c6']\n",
    "        self.c7 = iD['c7']\n",
    "        self.c8 = iD['c8']\n",
    "        self.c9 = iD['c9']\n",
    "        self.c10 = iD['c10']\n",
    "        \n",
    "iDt = {'c0': 0, 'c1': 214.286, 'c2': -0.004, 'c3': -43.897, 'c4': 0.027, 'c5': 4.075, 'c6': 0.492, 'c7': -0.969,\n",
    "      'c8': 0.325, 'c9': -0.05, 'c10': 0.003}\n",
    "tpt = tp(iDt)\n",
    "theta0t = 3\n",
    "puller_potential_energy(tpt, theta0t, plot=True)\n",
    "     "
   ]
  }
 ],
 "metadata": {
  "kernelspec": {
   "display_name": "Python 3",
   "language": "python",
   "name": "python3"
  },
  "language_info": {
   "codemirror_mode": {
    "name": "ipython",
    "version": 3
   },
   "file_extension": ".py",
   "mimetype": "text/x-python",
   "name": "python",
   "nbconvert_exporter": "python",
   "pygments_lexer": "ipython3",
   "version": "3.8.3"
  }
 },
 "nbformat": 4,
 "nbformat_minor": 2
}
