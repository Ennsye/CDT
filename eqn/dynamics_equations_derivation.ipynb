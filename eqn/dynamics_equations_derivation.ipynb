{
 "cells": [
  {
   "cell_type": "code",
   "execution_count": 5,
   "metadata": {},
   "outputs": [
    {
     "name": "stdout",
     "output_type": "stream",
     "text": [
      "theta(t)\n",
      "vxz =  -La*cos(theta(t))*Derivative(theta(t), t) - z*(Derivative(psi(t), t) - Derivative(theta(t), t))*cos(psi(t) - theta(t))\n",
      "vyz =  -La*sin(theta(t))*Derivative(theta(t), t) + z*(Derivative(psi(t), t) - Derivative(theta(t), t))*sin(psi(t) - theta(t))\n",
      "axz =  La*sin(theta(t))*Derivative(theta(t), t)**2 - La*cos(theta(t))*Derivative(theta(t), (t, 2)) + z*(Derivative(psi(t), t) - Derivative(theta(t), t))**2*sin(psi(t) - theta(t)) - z*(Derivative(psi(t), (t, 2)) - Derivative(theta(t), (t, 2)))*cos(psi(t) - theta(t))\n",
      "ayz =  -La*sin(theta(t))*Derivative(theta(t), (t, 2)) - La*cos(theta(t))*Derivative(theta(t), t)**2 + z*(Derivative(psi(t), t) - Derivative(theta(t), t))**2*cos(psi(t) - theta(t)) + z*(Derivative(psi(t), (t, 2)) - Derivative(theta(t), (t, 2)))*sin(psi(t) - theta(t))\n",
      "sx =  Ls*(2*La*(sin(theta(t))*Derivative(theta(t), t)**2 - cos(theta(t))*Derivative(theta(t), (t, 2))) + Ls*(sin(psi(t) - theta(t))*Derivative(psi(t), t)**2 - 2*sin(psi(t) - theta(t))*Derivative(psi(t), t)*Derivative(theta(t), t) + sin(psi(t) - theta(t))*Derivative(theta(t), t)**2 - cos(psi(t) - theta(t))*Derivative(psi(t), (t, 2)) + cos(psi(t) - theta(t))*Derivative(theta(t), (t, 2))))/2\n",
      "sy =  Ls*(-2*La*(sin(theta(t))*Derivative(theta(t), (t, 2)) + cos(theta(t))*Derivative(theta(t), t)**2) + Ls*(sin(psi(t) - theta(t))*Derivative(psi(t), (t, 2)) - sin(psi(t) - theta(t))*Derivative(theta(t), (t, 2)) + cos(psi(t) - theta(t))*Derivative(psi(t), t)**2 - 2*cos(psi(t) - theta(t))*Derivative(psi(t), t)*Derivative(theta(t), t) + cos(psi(t) - theta(t))*Derivative(theta(t), t)**2))/2\n",
      "v2z =  La**2*Derivative(theta(t), t)**2 + 2*La*z*cos(psi(t))*Derivative(psi(t), t)*Derivative(theta(t), t) - 2*La*z*cos(psi(t))*Derivative(theta(t), t)**2 + z**2*Derivative(psi(t), t)**2 - 2*z**2*Derivative(psi(t), t)*Derivative(theta(t), t) + z**2*Derivative(theta(t), t)**2\n",
      "Ts =  0.166666666666667*Ls*ds*(3*La**2*Derivative(theta(t), t)**2 + 3*La*Ls*(Derivative(psi(t), t) - Derivative(theta(t), t))*cos(psi(t))*Derivative(theta(t), t) + Ls**2*(Derivative(psi(t), t)**2 - 2*Derivative(psi(t), t)*Derivative(theta(t), t) + Derivative(theta(t), t)**2))\n",
      "Vs =  Ls*ds*g*(La*cos(theta(t)) - 0.5*Ls*cos(psi(t) - theta(t)))\n",
      "vpx =  -La*cos(theta(t))*Derivative(theta(t), t) - Ls*(Derivative(psi(t), t) - Derivative(theta(t), t))*cos(psi(t) - theta(t))\n",
      "vpy =  -La*sin(theta(t))*Derivative(theta(t), t) + Ls*(Derivative(psi(t), t) - Derivative(theta(t), t))*sin(psi(t) - theta(t))\n"
     ]
    },
    {
     "data": {
      "text/latex": [
       "$\\displaystyle Ls ds g \\left(La \\cos{\\left(\\theta{\\left(t \\right)} \\right)} - 0.5 Ls \\cos{\\left(\\psi{\\left(t \\right)} - \\theta{\\left(t \\right)} \\right)}\\right) + g mb rc \\cos{\\left(\\theta{\\left(t \\right)} \\right)} + g mp \\left(La \\cos{\\left(\\theta{\\left(t \\right)} \\right)} - Ls \\cos{\\left(\\psi{\\left(t \\right)} - \\theta{\\left(t \\right)} \\right)}\\right)$"
      ],
      "text/plain": [
       "Ls*ds*g*(La*cos(theta(t)) - 0.5*Ls*cos(psi(t) - theta(t))) + g*mb*rc*cos(theta(t)) + g*mp*(La*cos(theta(t)) - Ls*cos(psi(t) - theta(t)))"
      ]
     },
     "execution_count": 5,
     "metadata": {},
     "output_type": "execute_result"
    }
   ],
   "source": [
    "%matplotlib notebook\n",
    "\n",
    "import numpy as np\n",
    "import matplotlib.pyplot as plt\n",
    "import sympy as sm\n",
    "from sympy.physics.vector import dynamicsymbols\n",
    "from sympy import diff, Symbol, Derivative\n",
    "\n",
    "# step 1: find the Lagrangian\n",
    "\n",
    "# ds is sling linear density, z is position along the sling\n",
    "La, Ls, mp, mb, Ia, rc, g, t, ds, z = sm.symbols('La Ls mp mb Ia rc g t ds z')\n",
    "theta, psi, thetad, psid = dynamicsymbols('theta psi thetad psid')\n",
    "print(theta)\n",
    "\n",
    "xp = -La*sm.sin(theta) - Ls*sm.sin(psi - theta)\n",
    "yp = La*sm.cos(theta) - Ls*sm.cos(psi - theta)\n",
    "\n",
    "xz = -La*sm.sin(theta) - z*sm.sin(psi - theta)\n",
    "yz = La*sm.cos(theta) - z*sm.cos(psi - theta)\n",
    "vxz = sm.diff(xz, t)\n",
    "vyz = sm.diff(yz, t)\n",
    "\n",
    "\n",
    "axz = sm.diff(vxz, t)\n",
    "ayz = sm.diff(vyz, t)\n",
    "sx_indef = sm.integrate(axz, z)\n",
    "sy_indef = sm.integrate(ayz, z)\n",
    "sx = sm.simplify(sx_indef.subs(z, Ls) - sx_indef.subs(z, 0))\n",
    "sy = sm.simplify(sy_indef.subs(z, Ls) - sy_indef.subs(z, 0))\n",
    "# used for calculating force on the tip of the arm and maximum load on the sling\n",
    "# sx and sy are each multiplied by the linear density of the sling to yield the x and y contributions of\n",
    "# sling mass to tip load. Usually these contributions will be small in comparison to the mp*ap term\n",
    "\n",
    "v2z = sm.simplify(vxz**2 + vyz**2) # square of the speed of a point distance z along the sling from the tip\n",
    "Ts_indef = 0.5*ds*sm.integrate(v2z, z)\n",
    "Ts = sm.simplify(Ts_indef.subs(z, Ls) - Ts_indef.subs(z, 0)) # kinetic energy of the sling\n",
    "\n",
    "T = 0.5*Ia*(sm.diff(theta, t))**2 + 0.5*mp*((sm.diff(xp, t))**2 + (sm.diff(yp, t))**2) + Ts\n",
    "\n",
    "ybcom = rc*sm.cos(theta)\n",
    "Vs = ds*Ls*g*(La*sm.cos(theta) - 0.5*Ls*sm.cos(psi - theta))\n",
    "V = mp*g*yp + mb*g*ybcom + Vs\n",
    "\n",
    "L = T - V\n",
    "print(\"vxz = \", vxz)\n",
    "print(\"vyz = \", vyz)\n",
    "print(\"axz = \", axz)\n",
    "print(\"ayz = \", ayz)\n",
    "print(\"sx = \", sx)\n",
    "print(\"sy = \", sy)\n",
    "print(\"v2z = \", v2z)\n",
    "print(\"Ts = \", Ts)\n",
    "print(\"Vs = \", Vs)\n",
    "print(\"vpx = \", sm.diff(xp, t))\n",
    "print(\"vpy = \", sm.diff(yp, t))\n",
    "\n",
    "V"
   ]
  },
  {
   "cell_type": "code",
   "execution_count": 3,
   "metadata": {},
   "outputs": [
    {
     "name": "stdout",
     "output_type": "stream",
     "text": [
      "L =  0.5*Ia*thetad(t)**2 - Ls*ds*g*(La*cos(theta(t)) - 0.5*Ls*cos(psi(t) - theta(t))) + 0.166666666666667*Ls*ds*(3*La**2*thetad(t)**2 + 3*La*Ls*(psid(t) - thetad(t))*thetad(t)*cos(psi(t)) + Ls**2*(psid(t)**2 - 2*psid(t)*thetad(t) + thetad(t)**2)) - g*mb*rc*cos(theta(t)) - g*mp*(La*cos(theta(t)) - Ls*cos(psi(t) - theta(t))) + 0.5*mp*((-La*thetad(t)*sin(theta(t)) + Ls*(psid(t) - thetad(t))*sin(psi(t) - theta(t)))**2 + (-La*thetad(t)*cos(theta(t)) - Ls*(psid(t) - thetad(t))*cos(psi(t) - theta(t)))**2) \n",
      "\n",
      "eq_EL0 =  1.0*Ia*thetadd + Ls*ds*g*(-La*sin(theta(t)) - 0.5*Ls*sin(psi(t) - theta(t))) + 0.166666666666667*Ls*ds*(6*La**2*thetadd - 3*La*Ls*thetadd*cos(psi(t)) + 3*La*Ls*(psidd - thetadd)*cos(psi(t)) - 3*La*Ls*(psid(t) - thetad(t))*psid(t)*sin(psi(t)) + 3*La*Ls*psid(t)*thetad(t)*sin(psi(t)) + Ls**2*(-2*psidd + 2*thetadd)) + T_drive - g*mb*rc*sin(theta(t)) + g*mp*(-La*sin(theta(t)) - Ls*sin(psi(t) - theta(t))) - 0.5*mp*((-La*thetad(t)*sin(theta(t)) + Ls*(psid(t) - thetad(t))*sin(psi(t) - theta(t)))*(-2*La*thetad(t)*cos(theta(t)) - 2*Ls*(psid(t) - thetad(t))*cos(psi(t) - theta(t))) + (2*La*thetad(t)*sin(theta(t)) - 2*Ls*(psid(t) - thetad(t))*sin(psi(t) - theta(t)))*(-La*thetad(t)*cos(theta(t)) - Ls*(psid(t) - thetad(t))*cos(psi(t) - theta(t)))) + 0.5*mp*((-2*La*sin(theta(t)) - 2*Ls*sin(psi(t) - theta(t)))*(-La*thetadd*sin(theta(t)) - La*thetad(t)**2*cos(theta(t)) + Ls*(psidd - thetadd)*sin(psi(t) - theta(t)) + Ls*(psid(t) - thetad(t))**2*cos(psi(t) - theta(t))) + (-2*La*cos(theta(t)) + 2*Ls*cos(psi(t) - theta(t)))*(-La*thetadd*cos(theta(t)) + La*thetad(t)**2*sin(theta(t)) - Ls*(psidd - thetadd)*cos(psi(t) - theta(t)) + Ls*(psid(t) - thetad(t))**2*sin(psi(t) - theta(t))) + (-La*thetad(t)*sin(theta(t)) + Ls*(psid(t) - thetad(t))*sin(psi(t) - theta(t)))*(-2*La*thetad(t)*cos(theta(t)) - 2*Ls*(psid(t) - thetad(t))*cos(psi(t) - theta(t))) + (2*La*thetad(t)*sin(theta(t)) - 2*Ls*(psid(t) - thetad(t))*sin(psi(t) - theta(t)))*(-La*thetad(t)*cos(theta(t)) - Ls*(psid(t) - thetad(t))*cos(psi(t) - theta(t)))) \n",
      "\n",
      "eq_EL1 =  0.5*La*Ls**2*ds*(psid(t) - thetad(t))*thetad(t)*sin(psi(t)) + 0.5*Ls**2*ds*g*sin(psi(t) - theta(t)) + 0.166666666666667*Ls*ds*(3*La*Ls*thetadd*cos(psi(t)) - 3*La*Ls*psid(t)*thetad(t)*sin(psi(t)) + Ls**2*(2*psidd - 2*thetadd)) + Ls*g*mp*sin(psi(t) - theta(t)) - 0.5*mp*(2*Ls*(-La*thetad(t)*sin(theta(t)) + Ls*(psid(t) - thetad(t))*sin(psi(t) - theta(t)))*(psid(t) - thetad(t))*cos(psi(t) - theta(t)) + 2*Ls*(-La*thetad(t)*cos(theta(t)) - Ls*(psid(t) - thetad(t))*cos(psi(t) - theta(t)))*(psid(t) - thetad(t))*sin(psi(t) - theta(t))) + 0.5*mp*(2*Ls*(-La*thetad(t)*sin(theta(t)) + Ls*(psid(t) - thetad(t))*sin(psi(t) - theta(t)))*(psid(t) - thetad(t))*cos(psi(t) - theta(t)) + 2*Ls*(-La*thetad(t)*cos(theta(t)) - Ls*(psid(t) - thetad(t))*cos(psi(t) - theta(t)))*(psid(t) - thetad(t))*sin(psi(t) - theta(t)) + 2*Ls*(-La*thetadd*sin(theta(t)) - La*thetad(t)**2*cos(theta(t)) + Ls*(psidd - thetadd)*sin(psi(t) - theta(t)) + Ls*(psid(t) - thetad(t))**2*cos(psi(t) - theta(t)))*sin(psi(t) - theta(t)) - 2*Ls*(-La*thetadd*cos(theta(t)) + La*thetad(t)**2*sin(theta(t)) - Ls*(psidd - thetadd)*cos(psi(t) - theta(t)) + Ls*(psid(t) - thetad(t))**2*sin(psi(t) - theta(t)))*cos(psi(t) - theta(t))) \n",
      "\n"
     ]
    },
    {
     "data": {
      "text/latex": [
       "$\\displaystyle 0.5 La Ls^{2} ds \\left(\\operatorname{psid}{\\left(t \\right)} - \\operatorname{thetad}{\\left(t \\right)}\\right) \\operatorname{thetad}{\\left(t \\right)} \\sin{\\left(\\psi{\\left(t \\right)} \\right)} + 0.5 Ls^{2} ds g \\sin{\\left(\\psi{\\left(t \\right)} - \\theta{\\left(t \\right)} \\right)} + 0.166666666666667 Ls ds \\left(- 3 La Ls \\operatorname{thetad}{\\left(t \\right)} \\sin{\\left(\\psi{\\left(t \\right)} \\right)} \\frac{d}{d t} \\psi{\\left(t \\right)} + 3 La Ls \\cos{\\left(\\psi{\\left(t \\right)} \\right)} \\frac{d}{d t} \\operatorname{thetad}{\\left(t \\right)} + Ls^{2} \\left(2 \\frac{d}{d t} \\operatorname{psid}{\\left(t \\right)} - 2 \\frac{d}{d t} \\operatorname{thetad}{\\left(t \\right)}\\right)\\right) + Ls g mp \\sin{\\left(\\psi{\\left(t \\right)} - \\theta{\\left(t \\right)} \\right)} - 0.5 mp \\left(2 Ls \\left(- La \\operatorname{thetad}{\\left(t \\right)} \\sin{\\left(\\theta{\\left(t \\right)} \\right)} + Ls \\left(\\operatorname{psid}{\\left(t \\right)} - \\operatorname{thetad}{\\left(t \\right)}\\right) \\sin{\\left(\\psi{\\left(t \\right)} - \\theta{\\left(t \\right)} \\right)}\\right) \\left(\\operatorname{psid}{\\left(t \\right)} - \\operatorname{thetad}{\\left(t \\right)}\\right) \\cos{\\left(\\psi{\\left(t \\right)} - \\theta{\\left(t \\right)} \\right)} + 2 Ls \\left(- La \\operatorname{thetad}{\\left(t \\right)} \\cos{\\left(\\theta{\\left(t \\right)} \\right)} - Ls \\left(\\operatorname{psid}{\\left(t \\right)} - \\operatorname{thetad}{\\left(t \\right)}\\right) \\cos{\\left(\\psi{\\left(t \\right)} - \\theta{\\left(t \\right)} \\right)}\\right) \\left(\\operatorname{psid}{\\left(t \\right)} - \\operatorname{thetad}{\\left(t \\right)}\\right) \\sin{\\left(\\psi{\\left(t \\right)} - \\theta{\\left(t \\right)} \\right)}\\right) + 0.5 mp \\left(2 Ls \\left(- La \\operatorname{thetad}{\\left(t \\right)} \\sin{\\left(\\theta{\\left(t \\right)} \\right)} + Ls \\left(\\operatorname{psid}{\\left(t \\right)} - \\operatorname{thetad}{\\left(t \\right)}\\right) \\sin{\\left(\\psi{\\left(t \\right)} - \\theta{\\left(t \\right)} \\right)}\\right) \\left(\\frac{d}{d t} \\psi{\\left(t \\right)} - \\frac{d}{d t} \\theta{\\left(t \\right)}\\right) \\cos{\\left(\\psi{\\left(t \\right)} - \\theta{\\left(t \\right)} \\right)} + 2 Ls \\left(- La \\operatorname{thetad}{\\left(t \\right)} \\cos{\\left(\\theta{\\left(t \\right)} \\right)} - Ls \\left(\\operatorname{psid}{\\left(t \\right)} - \\operatorname{thetad}{\\left(t \\right)}\\right) \\cos{\\left(\\psi{\\left(t \\right)} - \\theta{\\left(t \\right)} \\right)}\\right) \\left(\\frac{d}{d t} \\psi{\\left(t \\right)} - \\frac{d}{d t} \\theta{\\left(t \\right)}\\right) \\sin{\\left(\\psi{\\left(t \\right)} - \\theta{\\left(t \\right)} \\right)} - 2 Ls \\left(La \\operatorname{thetad}{\\left(t \\right)} \\sin{\\left(\\theta{\\left(t \\right)} \\right)} \\frac{d}{d t} \\theta{\\left(t \\right)} - La \\cos{\\left(\\theta{\\left(t \\right)} \\right)} \\frac{d}{d t} \\operatorname{thetad}{\\left(t \\right)} + Ls \\left(\\operatorname{psid}{\\left(t \\right)} - \\operatorname{thetad}{\\left(t \\right)}\\right) \\left(\\frac{d}{d t} \\psi{\\left(t \\right)} - \\frac{d}{d t} \\theta{\\left(t \\right)}\\right) \\sin{\\left(\\psi{\\left(t \\right)} - \\theta{\\left(t \\right)} \\right)} - Ls \\left(\\frac{d}{d t} \\operatorname{psid}{\\left(t \\right)} - \\frac{d}{d t} \\operatorname{thetad}{\\left(t \\right)}\\right) \\cos{\\left(\\psi{\\left(t \\right)} - \\theta{\\left(t \\right)} \\right)}\\right) \\cos{\\left(\\psi{\\left(t \\right)} - \\theta{\\left(t \\right)} \\right)} + 2 Ls \\left(- La \\operatorname{thetad}{\\left(t \\right)} \\cos{\\left(\\theta{\\left(t \\right)} \\right)} \\frac{d}{d t} \\theta{\\left(t \\right)} - La \\sin{\\left(\\theta{\\left(t \\right)} \\right)} \\frac{d}{d t} \\operatorname{thetad}{\\left(t \\right)} + Ls \\left(\\operatorname{psid}{\\left(t \\right)} - \\operatorname{thetad}{\\left(t \\right)}\\right) \\left(\\frac{d}{d t} \\psi{\\left(t \\right)} - \\frac{d}{d t} \\theta{\\left(t \\right)}\\right) \\cos{\\left(\\psi{\\left(t \\right)} - \\theta{\\left(t \\right)} \\right)} + Ls \\left(\\frac{d}{d t} \\operatorname{psid}{\\left(t \\right)} - \\frac{d}{d t} \\operatorname{thetad}{\\left(t \\right)}\\right) \\sin{\\left(\\psi{\\left(t \\right)} - \\theta{\\left(t \\right)} \\right)}\\right) \\sin{\\left(\\psi{\\left(t \\right)} - \\theta{\\left(t \\right)} \\right)}\\right)$"
      ],
      "text/plain": [
       "0.5*La*Ls**2*ds*(psid(t) - thetad(t))*thetad(t)*sin(psi(t)) + 0.5*Ls**2*ds*g*sin(psi(t) - theta(t)) + 0.166666666666667*Ls*ds*(-3*La*Ls*thetad(t)*sin(psi(t))*Derivative(psi(t), t) + 3*La*Ls*cos(psi(t))*Derivative(thetad(t), t) + Ls**2*(2*Derivative(psid(t), t) - 2*Derivative(thetad(t), t))) + Ls*g*mp*sin(psi(t) - theta(t)) - 0.5*mp*(2*Ls*(-La*thetad(t)*sin(theta(t)) + Ls*(psid(t) - thetad(t))*sin(psi(t) - theta(t)))*(psid(t) - thetad(t))*cos(psi(t) - theta(t)) + 2*Ls*(-La*thetad(t)*cos(theta(t)) - Ls*(psid(t) - thetad(t))*cos(psi(t) - theta(t)))*(psid(t) - thetad(t))*sin(psi(t) - theta(t))) + 0.5*mp*(2*Ls*(-La*thetad(t)*sin(theta(t)) + Ls*(psid(t) - thetad(t))*sin(psi(t) - theta(t)))*(Derivative(psi(t), t) - Derivative(theta(t), t))*cos(psi(t) - theta(t)) + 2*Ls*(-La*thetad(t)*cos(theta(t)) - Ls*(psid(t) - thetad(t))*cos(psi(t) - theta(t)))*(Derivative(psi(t), t) - Derivative(theta(t), t))*sin(psi(t) - theta(t)) - 2*Ls*(La*thetad(t)*sin(theta(t))*Derivative(theta(t), t) - La*cos(theta(t))*Derivative(thetad(t), t) + Ls*(psid(t) - thetad(t))*(Derivative(psi(t), t) - Derivative(theta(t), t))*sin(psi(t) - theta(t)) - Ls*(Derivative(psid(t), t) - Derivative(thetad(t), t))*cos(psi(t) - theta(t)))*cos(psi(t) - theta(t)) + 2*Ls*(-La*thetad(t)*cos(theta(t))*Derivative(theta(t), t) - La*sin(theta(t))*Derivative(thetad(t), t) + Ls*(psid(t) - thetad(t))*(Derivative(psi(t), t) - Derivative(theta(t), t))*cos(psi(t) - theta(t)) + Ls*(Derivative(psid(t), t) - Derivative(thetad(t), t))*sin(psi(t) - theta(t)))*sin(psi(t) - theta(t)))"
      ]
     },
     "execution_count": 3,
     "metadata": {},
     "output_type": "execute_result"
    }
   ],
   "source": [
    "# step 2: apply the Euler-Lagrange equations, and find the differential equations describing the motion\n",
    "L = L.subs(Derivative(theta), thetad)\n",
    "L = L.subs(Derivative(psi), psid)\n",
    "print(\"L = \", L, \"\\n\")\n",
    "T_drive, thetadd, psidd = sm.symbols('T_drive thetadd psidd') # drive torque, applied about main pivot\n",
    "\n",
    "eq_EL0 = sm.diff(sm.diff(L, thetad), t) - sm.diff(L, theta) + T_drive # equation for theta\n",
    "# eq_EL0 and eq_EL1 are equal to zero. Plus sign on T_drive is because applying positive torque will cause the arm to rotate\n",
    "# backwards (CCW, using the definition of theta shown on 2017-11-06 pg2). So, T_drive should always be positive, using\n",
    "# the above equation\n",
    "eq_EL1 = sm.diff(sm.diff(L, psid), t) - sm.diff(L, psi) # no generalized force term, this angle is unactuated\n",
    "\n",
    "#not using LagrangesMethod because it's almost completely undocumented\n",
    "# now have two 2nd order ODEs represented as two eqns, both equal to zero\n",
    "# just need to rearrange to isolate thetadd in one and psidd in the other\n",
    "# the other 2 eqns come from the definitions of the derivatives, as per the usual dance for 2nd order systems\n",
    "\n",
    "\n",
    "eq00 = eq_EL0\n",
    "eq10 = eq_EL1\n",
    "\n",
    "eq_EL0 = eq_EL0.subs([(Derivative(thetad, t), thetadd), (Derivative(psid, t), psidd), (Derivative(theta, t), thetad), \n",
    "                      (Derivative(psi, t), psid)])\n",
    "eq_EL1 = eq_EL1.subs([(Derivative(thetad, t), thetadd), (Derivative(psid, t), psidd), (Derivative(theta, t), thetad), \n",
    "                      (Derivative(psi, t), psid)])\n",
    "\n",
    "print(\"eq_EL0 = \", eq_EL0, \"\\n\")\n",
    "print(\"eq_EL1 = \", eq_EL1, \"\\n\")\n",
    "\n",
    "psidd_sol0 = list(sm.solveset(eq_EL1, psidd))[0]\n",
    "eq_EL0_nopsidd = eq_EL0.subs(psidd, psidd_sol0)\n",
    "thetadd_iso = list(sm.solveset(eq_EL0_nopsidd, thetadd))[0]\n",
    "eq_EL1_nothetadd = eq_EL1.subs(thetadd, thetadd_iso)\n",
    "psidd_iso = list(sm.solveset(eq_EL1_nothetadd, psidd))[0]\n",
    "eq10"
   ]
  },
  {
   "cell_type": "code",
   "execution_count": 11,
   "metadata": {},
   "outputs": [
    {
     "name": "stdout",
     "output_type": "stream",
     "text": [
      "psidd_iso =  (0.166666666666667*Ia*La*Ls**2*ds**2*thetad(t)**2*sin(psi(t)) + 0.833333333333333*Ia*La*Ls*ds*mp*thetad(t)**2*sin(psi(t)) + 1.0*Ia*La*mp**2*thetad(t)**2*sin(psi(t)) - 0.166666666666667*Ia*Ls**2*ds**2*g*sin(psi(t) - theta(t)) - 0.833333333333333*Ia*Ls*ds*g*mp*sin(psi(t) - theta(t)) - 1.0*Ia*g*mp**2*sin(psi(t) - theta(t)) + 0.166666666666667*La**3*Ls**3*ds**3*thetad(t)**2*sin(psi(t)) + 1.0*La**3*Ls**2*ds**2*mp*thetad(t)**2*sin(psi(t)) + 1.83333333333333*La**3*Ls*ds*mp**2*thetad(t)**2*sin(psi(t)) + 1.0*La**3*mp**3*thetad(t)**2*sin(psi(t)) - 0.0833333333333333*La**2*Ls**4*ds**3*psid(t)**2*sin(psi(t))*cos(psi(t)) + 0.166666666666667*La**2*Ls**4*ds**3*psid(t)*thetad(t)*sin(psi(t))*cos(psi(t)) - 0.166666666666667*La**2*Ls**4*ds**3*thetad(t)**2*sin(psi(t))*cos(psi(t)) - 0.166666666666667*La**2*Ls**3*ds**3*g*sin(psi(t))*cos(theta(t)) - 0.583333333333333*La**2*Ls**3*ds**2*mp*psid(t)**2*sin(psi(t))*cos(psi(t)) + 1.16666666666667*La**2*Ls**3*ds**2*mp*psid(t)*thetad(t)*sin(psi(t))*cos(psi(t)) - 1.16666666666667*La**2*Ls**3*ds**2*mp*thetad(t)**2*sin(psi(t))*cos(psi(t)) + 0.0520833333333333*La**2*Ls**2*ds**2*g*mp*sin(psi(t) - 3*theta(t)) - 0.03125*La**2*Ls**2*ds**2*g*mp*sin(3*psi(t) - 3*theta(t)) - 0.75*La**2*Ls**2*ds**2*g*mp*sin(psi(t))**3*cos(theta(t))**3 + 0.375*La**2*Ls**2*ds**2*g*mp*sin(psi(t))**3*cos(theta(t)) + 0.25*La**2*Ls**2*ds**2*g*mp*sin(psi(t))*sin(theta(t))**2*cos(psi(t) - theta(t))*cos(psi(t)) - 0.25*La**2*Ls**2*ds**2*g*mp*sin(psi(t))*cos(psi(t) - theta(t))*cos(psi(t)) + 0.416666666666667*La**2*Ls**2*ds**2*g*mp*sin(psi(t))*cos(theta(t))**3 - 1.125*La**2*Ls**2*ds**2*g*mp*sin(psi(t))*cos(theta(t)) + 0.75*La**2*Ls**2*ds**2*g*mp*sin(theta(t))**3*cos(psi(t))**3 - 0.833333333333333*La**2*Ls**2*ds**2*g*mp*sin(theta(t))**3*cos(psi(t)) - 0.625*La**2*Ls**2*ds**2*g*mp*sin(theta(t))*cos(psi(t))**3 + 0.6875*La**2*Ls**2*ds**2*g*mp*sin(theta(t))*cos(psi(t)) - 1.33333333333333*La**2*Ls**2*ds*mp**2*psid(t)**2*sin(psi(t))*cos(psi(t)) + 2.66666666666667*La**2*Ls**2*ds*mp**2*psid(t)*thetad(t)*sin(psi(t))*cos(psi(t)) - 2.66666666666667*La**2*Ls**2*ds*mp**2*thetad(t)**2*sin(psi(t))*cos(psi(t)) - 1.0*La**2*Ls*ds*g*mp**2*sin(psi(t) - theta(t))*sin(psi(t))*sin(theta(t))*cos(psi(t))*cos(theta(t))**3 + 0.25*La**2*Ls*ds*g*mp**2*sin(psi(t) + theta(t))*sin(theta(t))**4 + 0.046875*La**2*Ls*ds*g*mp**2*sin(3*psi(t) - 3*theta(t)) + 0.25*La**2*Ls*ds*g*mp**2*sin(3*psi(t) - theta(t))*sin(theta(t))**4 - 0.5*La**2*Ls*ds*g*mp**2*sin(3*psi(t) - theta(t))*sin(theta(t))**2 + 0.75*La**2*Ls*ds*g*mp**2*sin(psi(t))**3*cos(theta(t))**3 - 0.25*La**2*Ls*ds*g*mp**2*sin(psi(t))**3*cos(theta(t)) - 0.25*La**2*Ls*ds*g*mp**2*sin(psi(t))*cos(psi(t) - 3*theta(t))*cos(psi(t)) - 0.958333333333333*La**2*Ls*ds*g*mp**2*sin(psi(t))*cos(theta(t))**3 - 1.41145833333333*La**2*Ls*ds*g*mp**2*sin(psi(t))*cos(theta(t)) + 0.223958333333333*La**2*Ls*ds*g*mp**2*sin(psi(t))*cos(3*theta(t)) + 0.140625*La**2*Ls*ds*g*mp**2*sin(3*psi(t))*cos(theta(t)) + 0.25*La**2*Ls*ds*g*mp**2*sin(theta(t))**3*cos(psi(t))**3 - 0.458333333333333*La**2*Ls*ds*g*mp**2*sin(theta(t))**3*cos(psi(t)) + 0.25*La**2*Ls*ds*g*mp**2*sin(theta(t))*cos(psi(t))**3 - 0.109375*La**2*Ls*ds*g*mp**2*sin(theta(t))*cos(psi(t)) - 0.359375*La**2*Ls*ds*g*mp**2*sin(theta(t))*cos(3*psi(t)) + 0.119791666666667*La**2*Ls*ds*g*mp**2*sin(3*theta(t))*cos(psi(t)) - 1.0*La**2*Ls*mp**3*psid(t)**2*sin(psi(t))*cos(psi(t)) + 2.0*La**2*Ls*mp**3*psid(t)*thetad(t)*sin(psi(t))*cos(psi(t)) - 2.0*La**2*Ls*mp**3*thetad(t)**2*sin(psi(t))*cos(psi(t)) - 2.0*La**2*g*mp**3*sin(psi(t) - theta(t))*sin(psi(t))*sin(theta(t))*cos(psi(t))*cos(theta(t))**3 + 0.5*La**2*g*mp**3*sin(psi(t) + theta(t))*sin(theta(t))**4 + 0.15625*La**2*g*mp**3*sin(3*psi(t) - 3*theta(t)) + 0.5*La**2*g*mp**3*sin(3*psi(t) - theta(t))*sin(theta(t))**4 - 1.0*La**2*g*mp**3*sin(3*psi(t) - theta(t))*sin(theta(t))**2 + 2.5*La**2*g*mp**3*sin(psi(t))**3*cos(theta(t))**3 - 1.0*La**2*g*mp**3*sin(psi(t))**3*cos(theta(t)) - 0.5*La**2*g*mp**3*sin(psi(t))*cos(psi(t) - 3*theta(t))*cos(psi(t)) - 2.25*La**2*g*mp**3*sin(psi(t))*cos(theta(t))**3 - 0.09375*La**2*g*mp**3*sin(psi(t))*cos(theta(t)) + 0.34375*La**2*g*mp**3*sin(psi(t))*cos(3*theta(t)) + 0.34375*La**2*g*mp**3*sin(3*psi(t))*cos(theta(t)) - 0.5*La**2*g*mp**3*sin(theta(t))**3*cos(psi(t))**3 - 0.25*La**2*g*mp**3*sin(theta(t))**3*cos(psi(t)) + 1.0*La**2*g*mp**3*sin(theta(t))*cos(psi(t))**3 - 0.53125*La**2*g*mp**3*sin(theta(t))*cos(psi(t)) - 0.65625*La**2*g*mp**3*sin(theta(t))*cos(3*psi(t)) + 0.21875*La**2*g*mp**3*sin(3*theta(t))*cos(psi(t)) + 0.0555555555555556*La*Ls**5*ds**3*psid(t)**2*sin(psi(t)) - 0.111111111111111*La*Ls**5*ds**3*psid(t)*thetad(t)*sin(psi(t)) + 0.0555555555555556*La*Ls**5*ds**3*thetad(t)**2*sin(psi(t)) + 0.0833333333333333*La*Ls**4*ds**3*g*sin(psi(t) - theta(t))*cos(psi(t)) + 0.111111111111111*La*Ls**4*ds**3*g*sin(theta(t)) + 0.444444444444444*La*Ls**4*ds**2*mp*psid(t)**2*sin(psi(t)) - 0.888888888888889*La*Ls**4*ds**2*mp*psid(t)*thetad(t)*sin(psi(t)) + 0.444444444444444*La*Ls**4*ds**2*mp*thetad(t)**2*sin(psi(t)) + 0.333333333333333*La*Ls**3*ds**2*g*mp*sin(psi(t))**2*sin(theta(t))**3 + 0.333333333333333*La*Ls**3*ds**2*g*mp*sin(psi(t))**2*sin(theta(t)) + 0.0833333333333333*La*Ls**3*ds**2*g*mp*sin(psi(t))*cos(psi(t) - 3*theta(t)) - 0.333333333333333*La*Ls**3*ds**2*g*mp*sin(psi(t))*cos(psi(t))*cos(theta(t))**3 + 0.833333333333333*La*Ls**3*ds**2*g*mp*sin(psi(t))*cos(psi(t))*cos(theta(t)) - 0.166666666666667*La*Ls**3*ds**2*g*mp*sin(theta(t))**3 + 0.319444444444444*La*Ls**3*ds**2*g*mp*sin(theta(t)) - 0.0416666666666667*La*Ls**3*ds**2*g*mp*sin(3*theta(t)) + 1.16666666666667*La*Ls**3*ds*mp**2*psid(t)**2*sin(psi(t)) - 2.33333333333333*La*Ls**3*ds*mp**2*psid(t)*thetad(t)*sin(psi(t)) + 1.16666666666667*La*Ls**3*ds*mp**2*thetad(t)**2*sin(psi(t)) + 0.166666666666667*La*Ls**2*T_drive*ds**2*cos(psi(t)) - 0.166666666666667*La*Ls**2*ds**2*g*mb*rc*sin(theta(t))*cos(psi(t)) + 1.66666666666667*La*Ls**2*ds*g*mp**2*sin(psi(t))**2*sin(theta(t))**3 + 0.0833333333333333*La*Ls**2*ds*g*mp**2*sin(psi(t))**2*sin(theta(t)) + 0.416666666666667*La*Ls**2*ds*g*mp**2*sin(psi(t))*cos(psi(t) - 3*theta(t)) - 1.66666666666667*La*Ls**2*ds*g*mp**2*sin(psi(t))*cos(psi(t))*cos(theta(t))**3 + 2.58333333333333*La*Ls**2*ds*g*mp**2*sin(psi(t))*cos(psi(t))*cos(theta(t)) - 0.833333333333333*La*Ls**2*ds*g*mp**2*sin(theta(t))**3 + 0.958333333333333*La*Ls**2*ds*g*mp**2*sin(theta(t)) - 0.208333333333333*La*Ls**2*ds*g*mp**2*sin(3*theta(t)) + 1.0*La*Ls**2*mp**3*psid(t)**2*sin(psi(t)) - 2.0*La*Ls**2*mp**3*psid(t)*thetad(t)*sin(psi(t)) + 1.0*La*Ls**2*mp**3*thetad(t)**2*sin(psi(t)) + 0.833333333333333*La*Ls*T_drive*ds*mp*cos(psi(t)) + 0.0833333333333333*La*Ls*ds*g*mb*mp*rc*sin(psi(t) - 3*theta(t)) + 0.333333333333333*La*Ls*ds*g*mb*mp*rc*sin(psi(t) - theta(t))*sin(theta(t))**2 - 0.0833333333333333*La*Ls*ds*g*mb*mp*rc*sin(psi(t))*cos(theta(t)) - 0.583333333333333*La*Ls*ds*g*mb*mp*rc*sin(theta(t))*cos(psi(t)) + 2.0*La*Ls*g*mp**3*sin(psi(t))**2*sin(theta(t))**3 - 0.5*La*Ls*g*mp**3*sin(psi(t))**2*sin(theta(t)) + 0.5*La*Ls*g*mp**3*sin(psi(t))*cos(psi(t) - 3*theta(t)) - 2.0*La*Ls*g*mp**3*sin(psi(t))*cos(psi(t))*cos(theta(t))**3 + 2.5*La*Ls*g*mp**3*sin(psi(t))*cos(psi(t))*cos(theta(t)) - 1.0*La*Ls*g*mp**3*sin(theta(t))**3 + 0.75*La*Ls*g*mp**3*sin(theta(t)) - 0.25*La*Ls*g*mp**3*sin(3*theta(t)) + 1.0*La*T_drive*mp**2*cos(psi(t)) + 0.25*La*g*mb*mp**2*rc*sin(psi(t) - 3*theta(t)) + 1.0*La*g*mb*mp**2*rc*sin(psi(t) - theta(t))*sin(theta(t))**2 - 0.25*La*g*mb*mp**2*rc*sin(psi(t) + theta(t)) - 0.111111111111111*Ls**3*T_drive*ds**2 + 0.111111111111111*Ls**3*ds**2*g*mb*rc*sin(theta(t)) - 0.666666666666667*Ls**2*T_drive*ds*mp + 0.666666666666667*Ls**2*ds*g*mb*mp*rc*sin(theta(t)) - 1.0*Ls*T_drive*mp**2 + 1.0*Ls*g*mb*mp**2*rc*sin(theta(t)))/(Ls*(0.111111111111111*Ia*Ls**2*ds**2 + 0.666666666666667*Ia*Ls*ds*mp + 1.0*Ia*mp**2 + 0.0833333333333333*La**2*Ls**3*ds**3*sin(psi(t))**2 + 0.0277777777777778*La**2*Ls**3*ds**3 + 0.583333333333333*La**2*Ls**2*ds**2*mp*sin(psi(t))**2 + 0.194444444444444*La**2*Ls**2*ds**2*mp + 1.33333333333333*La**2*Ls*ds*mp**2*sin(psi(t))**2 + 0.333333333333333*La**2*Ls*ds*mp**2 + 1.0*La**2*mp**3*sin(psi(t))**2))\n",
      "\n",
      "thetadd_iso =  (-0.25*La**2*Ls**2*ds**2*thetad(t)**2*sin(psi(t))*cos(psi(t)) - 1.0*La**2*Ls*ds*mp*thetad(t)**2*sin(psi(t))*cos(psi(t)) - 1.0*La**2*mp**2*thetad(t)**2*sin(psi(t))*cos(psi(t)) + 0.166666666666667*La*Ls**3*ds**2*psid(t)**2*sin(psi(t)) - 0.333333333333333*La*Ls**3*ds**2*psid(t)*thetad(t)*sin(psi(t)) + 0.166666666666667*La*Ls**3*ds**2*thetad(t)**2*sin(psi(t)) + 0.25*La*Ls**2*ds**2*g*sin(psi(t) - theta(t))*cos(psi(t)) + 0.333333333333333*La*Ls**2*ds**2*g*sin(theta(t)) + 0.833333333333333*La*Ls**2*ds*mp*psid(t)**2*sin(psi(t)) - 1.66666666666667*La*Ls**2*ds*mp*psid(t)*thetad(t)*sin(psi(t)) + 0.833333333333333*La*Ls**2*ds*mp*thetad(t)**2*sin(psi(t)) + 1.0*La*Ls*ds*g*mp*sin(psi(t))**2*sin(theta(t))**3 + 0.25*La*Ls*ds*g*mp*sin(psi(t))**2*sin(theta(t)) + 0.25*La*Ls*ds*g*mp*sin(psi(t))*cos(psi(t) - 3*theta(t)) - 1.0*La*Ls*ds*g*mp*sin(psi(t))*cos(psi(t))*cos(theta(t))**3 + 1.75*La*Ls*ds*g*mp*sin(psi(t))*cos(psi(t))*cos(theta(t)) - 0.5*La*Ls*ds*g*mp*sin(theta(t))**3 + 0.708333333333333*La*Ls*ds*g*mp*sin(theta(t)) - 0.125*La*Ls*ds*g*mp*sin(3*theta(t)) + 1.0*La*Ls*mp**2*psid(t)**2*sin(psi(t)) - 2.0*La*Ls*mp**2*psid(t)*thetad(t)*sin(psi(t)) + 1.0*La*Ls*mp**2*thetad(t)**2*sin(psi(t)) + 2.0*La*g*mp**2*sin(psi(t))**2*sin(theta(t))**3 - 0.5*La*g*mp**2*sin(psi(t))**2*sin(theta(t)) + 0.5*La*g*mp**2*sin(psi(t))*cos(psi(t) - 3*theta(t)) - 2.0*La*g*mp**2*sin(psi(t))*cos(psi(t))*cos(theta(t))**3 + 2.5*La*g*mp**2*sin(psi(t))*cos(psi(t))*cos(theta(t)) - 1.0*La*g*mp**2*sin(theta(t))**3 + 0.75*La*g*mp**2*sin(theta(t)) - 0.25*La*g*mp**2*sin(3*theta(t)) - 0.333333333333333*Ls*T_drive*ds + 0.333333333333333*Ls*ds*g*mb*rc*sin(theta(t)) - 1.0*T_drive*mp + 1.0*g*mb*mp*rc*sin(theta(t)))/(0.333333333333333*Ia*Ls*ds + 1.0*Ia*mp + 0.25*La**2*Ls**2*ds**2*sin(psi(t))**2 + 0.0833333333333333*La**2*Ls**2*ds**2 + 1.0*La**2*Ls*ds*mp*sin(psi(t))**2 + 0.333333333333333*La**2*Ls*ds*mp + 1.0*La**2*mp**2*sin(psi(t))**2)\n"
     ]
    }
   ],
   "source": [
    "print(\"psidd_iso = \", psidd_iso)\n",
    "print(\"\\nthetadd_iso = \", thetadd_iso)"
   ]
  },
  {
   "cell_type": "code",
   "execution_count": 18,
   "metadata": {},
   "outputs": [
    {
     "name": "stdout",
     "output_type": "stream",
     "text": [
      "It =  Ia + Ls*ds*(3*La**2 - 3*La*Ls*cos(psi(t)) + Ls**2)/3 + mp*(La**2 - 2*La*Ls*cos(psi(t)) + Ls**2)\n"
     ]
    }
   ],
   "source": [
    "r2z = xz**2 + yz**2\n",
    "Is_indef = ds*sm.integrate(r2z, z)\n",
    "Is = sm.simplify(Is_indef.subs(z, Ls) - Is_indef.subs(z, 0))\n",
    "Ip = sm.simplify(mp*r2z.subs(z, Ls))\n",
    "It = Ia + Ip + Is # total inertia of the arm-sling-projectile system for platform option\n",
    "print(\"It = \", It)"
   ]
  },
  {
   "cell_type": "code",
   "execution_count": 28,
   "metadata": {},
   "outputs": [
    {
     "name": "stdout",
     "output_type": "stream",
     "text": [
      "-La*cos(theta(t))*Derivative(theta(t), t) - Ls*(Derivative(psi(t), t) - Derivative(theta(t), t))*cos(psi(t) - theta(t))\n",
      "-La*sin(theta(t))*Derivative(theta(t), t) + Ls*(Derivative(psi(t), t) - Derivative(theta(t), t))*sin(psi(t) - theta(t))\n"
     ]
    }
   ],
   "source": [
    "print(vxz.subs([(z, Ls)]))\n",
    "print(vyz.subs([(z, Ls)]))"
   ]
  },
  {
   "cell_type": "code",
   "execution_count": 33,
   "metadata": {},
   "outputs": [
    {
     "name": "stdout",
     "output_type": "stream",
     "text": [
      "La**2*thetad(t)**2 + 2*La*Ls*psid(t)*thetad(t)*cos(psi(t)) - 2*La*Ls*thetad(t)**2*cos(psi(t)) + Ls**2*psid(t)**2 - 2*Ls**2*psid(t)*thetad(t) + Ls**2*thetad(t)**2\n"
     ]
    }
   ],
   "source": [
    "print(sm.simplify((v2z.subs([(z, Ls), (Derivative(theta, t), thetad), (Derivative(psi, t), psid)]))))"
   ]
  },
  {
   "cell_type": "code",
   "execution_count": 40,
   "metadata": {},
   "outputs": [
    {
     "name": "stdout",
     "output_type": "stream",
     "text": [
      "apx =  La*sin(theta(t))*Derivative(theta(t), t)**2 - La*cos(theta(t))*Derivative(theta(t), (t, 2)) + Ls*(Derivative(psi(t), t) - Derivative(theta(t), t))**2*sin(psi(t) - theta(t)) - Ls*(Derivative(psi(t), (t, 2)) - Derivative(theta(t), (t, 2)))*cos(psi(t) - theta(t))\n",
      "apy =  -La*sin(theta(t))*Derivative(theta(t), (t, 2)) - La*cos(theta(t))*Derivative(theta(t), t)**2 + Ls*(Derivative(psi(t), t) - Derivative(theta(t), t))**2*cos(psi(t) - theta(t)) + Ls*(Derivative(psi(t), (t, 2)) - Derivative(theta(t), (t, 2)))*sin(psi(t) - theta(t))\n"
     ]
    }
   ],
   "source": [
    "vpx = vxz.subs(z, Ls)\n",
    "vpy = vyz.subs(z, Ls)\n",
    "apx = sm.diff(vpx, t)\n",
    "apy = sm.diff(vpy, t)\n",
    "print(\"apx = \", apx)\n",
    "print(\"apy = \", apy)"
   ]
  }
 ],
 "metadata": {
  "kernelspec": {
   "display_name": "Python 3",
   "language": "python",
   "name": "python3"
  },
  "language_info": {
   "codemirror_mode": {
    "name": "ipython",
    "version": 3
   },
   "file_extension": ".py",
   "mimetype": "text/x-python",
   "name": "python",
   "nbconvert_exporter": "python",
   "pygments_lexer": "ipython3",
   "version": "3.7.3"
  }
 },
 "nbformat": 4,
 "nbformat_minor": 2
}
